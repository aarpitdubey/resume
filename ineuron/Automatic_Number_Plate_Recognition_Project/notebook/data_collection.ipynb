{
 "cells": [
  {
   "cell_type": "code",
   "execution_count": 1,
   "id": "a071c7e9-6381-4ada-87e6-a363208cb1fc",
   "metadata": {},
   "outputs": [
    {
     "name": "stdout",
     "output_type": "stream",
     "text": [
      "Hello, this is Arpit Dubey\n",
      " You opened your jupyter notebook\n"
     ]
    }
   ],
   "source": [
    "print(\"Hello, this is Arpit Dubey\\n You opened your jupyter notebook\")"
   ]
  },
  {
   "cell_type": "code",
   "execution_count": null,
   "id": "10e1a4cf-a963-47bc-bb7d-5901699aef38",
   "metadata": {},
   "outputs": [],
   "source": []
  }
 ],
 "metadata": {
  "kernelspec": {
   "display_name": "apnr",
   "language": "python",
   "name": "apnr"
  },
  "language_info": {
   "codemirror_mode": {
    "name": "ipython",
    "version": 3
   },
   "file_extension": ".py",
   "mimetype": "text/x-python",
   "name": "python",
   "nbconvert_exporter": "python",
   "pygments_lexer": "ipython3",
   "version": "3.8.0"
  }
 },
 "nbformat": 4,
 "nbformat_minor": 5
}
